{
  "nbformat": 4,
  "nbformat_minor": 0,
  "metadata": {
    "colab": {
      "provenance": [],
      "authorship_tag": "ABX9TyOgfmiED2PayagzNg9QW5AW",
      "include_colab_link": true
    },
    "kernelspec": {
      "name": "python3",
      "display_name": "Python 3"
    },
    "language_info": {
      "name": "python"
    }
  },
  "cells": [
    {
      "cell_type": "markdown",
      "metadata": {
        "id": "view-in-github",
        "colab_type": "text"
      },
      "source": [
        "<a href=\"https://colab.research.google.com/github/higodsky/aicoding/blob/main/%EC%BA%A0%ED%94%842.ipynb\" target=\"_parent\"><img src=\"https://colab.research.google.com/assets/colab-badge.svg\" alt=\"Open In Colab\"/></a>"
      ]
    },
    {
      "cell_type": "code",
      "execution_count": 4,
      "metadata": {
        "id": "0Hk_htSfoDRD"
      },
      "outputs": [],
      "source": [
        "dataSeed = '''\n",
        "dix\tleaf_length\tleaf_width\tspc\tspc_code\n",
        "1\t11.5\t1.5\t나란히맥\t1\n",
        "2\t14.5\t2.0\t나란히맥\t1\n",
        "3\t9.8\t1.3\t나란히맥\t1\n",
        "4\t9.5\t2.5\t나란히맥\t1\n",
        "5\t13.5\t2.0\t나란히맥\t1\n",
        "6\t14.6\t3.7\t나란히맥\t1\n",
        "7\t11.7\t3.0\t나란히맥\t1\n",
        "8\t7.3\t2.5\t나란히맥\t1\n",
        "9\t12.5\t4.2\t나란히맥\t1\n",
        "10\t10.4\t3.5\t나란히맥\t1\n",
        "11\t10.1\t1.7\t나란히맥\t1\n",
        "12\t22.2\t50.1\t나란히맥\t1\n",
        "13\t14.7\t1.2\t나란히맥\t1\n",
        "14\t16.0\t5.2\t나란히맥\t1\n",
        "15\t15.2\t4.9\t나란히맥\t1\n",
        "16\t10.2\t0.8\t나란히맥\t1\n",
        "17\t6.4\t1.6\t나란히맥\t1\n",
        "18\t16.4\t5.5\t나란히맥\t1\n",
        "19\t13.4\t2.0\t나란히맥\t1\n",
        "20\t6.5\t1.5\t나란히맥\t1\n",
        "21\t14.0\t8.0\t그물맥\t2\n",
        "22\t6.0\t8.0\t그물맥\t2\n",
        "23\t9.7\t6.0\t그물맥\t2\n",
        "24\t11.0\t11.8\t그물맥\t2\n",
        "25\t9.8\t9.9\t그물맥\t2\n",
        "26\t22.1\t45.1\t그물맥\t2\n",
        "27\t6.1\t5.7\t그물맥\t2\n",
        "28\t10.7\t10.3\t그물맥\t2\n",
        "29\t12.0\t11.8\t그물맥\t2\n",
        "30\t10.5\t6.6\t그물맥\t2\n",
        "31\t8.5\t10.3\t그물맥\t2\n",
        "32\t8.5\t7.5\t그물맥\t2\n",
        "33\t11.0\t10.0\t그물맥\t2\n",
        "34\t8.8\t8.6\t그물맥\t2\n",
        "35\t7.8\t7.7\t그물맥\t2\n",
        "36\t9.5\t9.0\t그물맥\t2\n",
        "37\t7.4\t6.5\t그물맥\t2\n",
        "38\t5.0\t5.8\t그물맥\t2\n",
        "39\t12.5\t11.5\t그물맥\t2\n",
        "40\t10.0\t10.4\t그물맥\t2\n",
        "41\t11.8\t11.0\t그물맥\t2\n",
        "42\t6.4\t5.7\t그물맥\t2\n",
        "43\t15.0\t14.1\t그물맥\t2\n",
        "44\t8.5\t7.6\t그물맥\t2\n",
        "45\t23.2\t50.1\t나란히맥\t1\n",
        "46\t22.1\t45.1\t그물맥\t2\n",
        "47\t9.7\t2.4\t나란히맥\t1\n",
        "48\t6.0\t8.0\t나란히맥\t1\n",
        "49\t8.3\t1.4\t나란히맥\t1\n",
        "50\t6.0\t7.8\t그물맥\t2\n",
        "51\t14.5\t8.0\t그물맥\t2\n",
        "52\t12.5\t2.0\t나란히맥\t1\n",
        "53\t5.5\t1.5\t나란히맥\t1\n",
        "54\t14.0\t3.5\t나란히맥\t1\n",
        "55\t8.0\t7.0\t그물맥\t2\n",
        "56\t14.0\t8.5\t그물맥\t2\n",
        "57\t12.0\t7.0\t나란히맥\t1\n",
        "58\t9.0\t6.0\t나란히맥\t1\n",
        "59\t16.0\t6.0\t나란히맥\t1\n",
        "60\t12.0\t7.0\t나란히맥\t1\n",
        "61\t14.0\t12.0\t그물맥\t2\n",
        "62\t5.0\t5.0\t그물맥\t2\n",
        "63\t9.0\t11.2\t그물맥\t2\n",
        "64\t6.5\t6.0\t그물맥\t2\n",
        "65\t9.0\t9.0\t그물맥\t2\n",
        "66\t15.7\t3.8\t나란히맥\t1\n",
        "67\t9.9\t9.8\t그물맥\t2\n",
        "68\t7.5\t9.8\t그물맥\t2\n",
        "69\t10.3\t10.2\t그물맥\t2\n",
        "70\t12.2\t11.8\t그물맥\t2\n",
        "71\t16.4\t5.5\t나란히맥\t1\n",
        "72\t9.9\t10.8\t그물맥\t2\n",
        "73\t11.0\t6.8\t그물맥\t2\n",
        "74\t16.0\t4.0\t나란히맥\t1\n",
        "75\t10.0\t9.2\t그물맥\t2\n",
        "76\t13.0\t7.9\t그물맥\t2\n",
        "77\t9.5\t5.9\t그물맥\t2\n",
        "78\t15.0\t13.8\t그물맥\t2\n",
        "79\t12.0\t12.0\t그물맥\t2\n",
        "80\t14.7\t1.0\t나란히맥\t1\n",
        "81\t12.0\t11.2\t그물맥\t2\n",
        "82\t12.5\t4.5\t나란히맥\t1\n",
        "83\t7.0\t2.0\t나란히맥\t1\n",
        "84\t6.0\t1.9\t나란히맥\t1\n",
        "85\t14.5\t3.5\t나란히맥\t1\n",
        "86\t4.0\t6.7\t나란히맥\t1\n",
        "87\t23.2\t50.1\t나란히맥\t1\n",
        "88\t22.1\t45.1\t그물맥\t2\n",
        "89\t14.0\t8.5\t그물맥\t2\n",
        "90\t15.5\t4.5\t나란히맥\t1\n",
        "91\t13.5\t2.0\t나란히맥\t1\n",
        "92\t10.0\t1.5\t나란히맥\t1\n",
        "93\t8.0\t7.5\t그물맥\t2\n",
        "94\t10.0\t11.0\t그물맥\t2\n",
        "95\t7.0\t10.0\t그물맥\t2\n",
        "96\t6.0\t8.0\t그물맥\t2\n",
        "97\t5.0\t4.0\t그물맥\t2\n",
        "98\t6.8\t6.0\t그물맥\t2\n",
        "99\t9.8\t9.0\t그물맥\t2\n",
        "100\t7.8\t7.5\t그물맥\t2\n",
        "101\t7.0\t6.3\t그물맥\t2\n",
        "102\t8.8\t8.0\t그물맥\t2\n",
        "103\t8.6\t7.7\t나란히맥\t1\n",
        "104\t6.0\t5.4\t그물맥\t2\n",
        "105\t7.9\t6.7\t그물맥\t2\n",
        "106\t11.9\t3.0\t나란히맥\t1\n",
        "107\t5.5\t1.0\t나란히맥\t1\n",
        "108\t3.5\t4.7\t나란히맥\t1\n",
        "109\t1.6\t3.0\t나란히맥\t1\n",
        "110\t5.0\t1.5\t나란히맥\t1\n",
        "111\t3.0\t1.9\t나란히맥\t1\n",
        "112\t4.6\t1.1\t나란히맥\t1\n",
        "113\t3.9\t1.3\t나란히맥\t1\n",
        "114\t11.6\t0.9\t나란히맥\t1\n",
        "115\t7.8\t5.0\t나란히맥\t1\n",
        "116\t7.5\t2.5\t나란히맥\t1\n",
        "117\t10.5\t3.5\t나란히맥\t1\n",
        "118\t12.0\t11.2\t그물맥\t2\n",
        "119\t15.0\t14.1\t그물맥\t2\n",
        "120\t9.9\t9.2\t그물맥\t2\n",
        "121\t12.8\t7.8\t그물맥\t2\n",
        "122\t9.8\t5.9\t그물맥\t2\n",
        "123\t14.0\t8.1\t그물맥\t2\n",
        "124\t7.9\t8.0\t그물맥\t2\n",
        "125\t7.2\t6.5\t나란히맥\t1\n",
        "126\t9.0\t8.1\t그물맥\t2\n",
        "127\t16.9\t5.5\t나란히맥\t1\n",
        "128\t12.6\t4.3\t나란히맥\t1\n",
        "129\t15.0\t30.0\t나란히맥\t1\n",
        "130\t9.0\t22.5\t나란히맥\t1\n",
        "131\t15.0\t60.0\t나란히맥\t1\n",
        "132\t6.0\t9.0\t나란히맥\t1\n",
        "133\t7.0\t14.0\t나란히맥\t1\n",
        "134\t15.0\t15.0\t나란히맥\t1\n",
        "135\t8.5\t7.5\t그물맥\t2\n",
        "136\t7.5\t6.5\t그물맥\t2\n",
        "137\t1.5\t7.0\t나란히맥\t1\n",
        "138\t2.5\t10.5\t나란히맥\t1\n",
        "139\t1.5\t7.0\t나란히맥\t1\n",
        "140\t14.5\t4.9\t나란히맥\t1\n",
        "141\t15.0\t2.0\t나란히맥\t1\n",
        "142\t10.0\t0.8\t나란히맥\t1\n",
        "143\t7.0\t2.0\t나란히맥\t1\n",
        "144\t20.0\t3.0\t나란히맥\t1\n",
        "145\t6.0\t6.0\t그물맥\t2\n",
        "146\t12.3\t12.5\t그물맥\t2\n",
        "147\t10.8\t10.0\t그물맥\t2\n",
        "148\t10.8\t6.5\t그물맥\t2\n",
        "149\t10.5\t10.5\t그물맥\t2\n",
        "150\t16.5\t5.5\t나란히맥\t1\n",
        "151\t12.5\t4.3\t나란히맥\t1\n",
        "152\t9.7\t2.4\t나란히맥\t1\n",
        "153\t6.0\t8.0\t나란히맥\t1\n",
        "154\t8.3\t1.4\t나란히맥\t1\n",
        "155\t6.0\t7.8\t그물맥\t2\n",
        "156\t14.5\t8.0\t그물맥\t2\n",
        "157\t12.5\t2.0\t나란히맥\t1\n",
        "158\t5.5\t1.5\t나란히맥\t1\n",
        "159\t4.0\t3.5\t나란히맥\t1\n",
        "160\t8.0\t7.0\t그물맥\t2\n",
        "161\t14.0\t8.5\t그물맥\t2\n",
        "162\t12.0\t7.0\t나란히맥\t1\n",
        "163\t9.0\t6.0\t나란히맥\t1\n",
        "164\t16.0\t6.0\t나란히맥\t1\n",
        "165\t12.0\t7.0\t나란히맥\t1\n",
        "166\t5.0\t5.0\t그물맥\t2\n",
        "167\t6.5\t6.0\t그물맥\t2\n",
        "168\t9.0\t9.0\t그물맥\t2\n",
        "169\t15.0\t4.0\t나란히맥\t1\n",
        "170\t12.0\t11.2\t그물맥\t2\n",
        "171\t15.0\t14.1\t그물맥\t2\n",
        "172\t9.9\t9.2\t그물맥\t2\n",
        "173\t12.8\t7.8\t그물맥\t2\n",
        "174\t9.8\t5.9\t그물맥\t2\n",
        "175\t14.0\t8.1\t그물맥\t2\n",
        "176\t7.9\t8.0\t그물맥\t2\n",
        "177\t7.2\t6.5\t나란히맥\t1\n",
        "178\t9.0\t8.1\t그물맥\t2\n",
        "179\t16.9\t5.5\t나란히맥\t1\n",
        "180\t12.6\t4.3\t나란히맥\t1\n",
        "181\t15.0\t30.0\t나란히맥\t1\n",
        "182\t9.0\t22.5\t나란히맥\t1\n",
        "183\t15.0\t60.0\t나란히맥\t1\n",
        "184\t6.0\t9.0\t나란히맥\t1\n",
        "185\t7.0\t14.0\t나란히맥\t1\n",
        "186\t15.0\t15.0\t나란히맥\t1\n",
        "187\t8.5\t7.5\t그물맥\t2\n",
        "188\t7.5\t6.5\t그물맥\t2\n",
        "189\t1.5\t7.0\t나란히맥\t1\n",
        "190\t2.5\t10.5\t나란히맥\t1\n",
        "191\t1.5\t7.0\t나란히맥\t1\n",
        "192\t14.5\t4.9\t나란히맥\t1\n",
        "193\t15.0\t2.0\t나란히맥\t1\n",
        "194\t10.0\t0.8\t나란히맥\t1\n",
        "195\t7.0\t2.0\t나란히맥\t1\n",
        "196\t20.0\t3.0\t나란히맥\t1\n",
        "197\t6.0\t6.0\t그물맥\t2\n",
        "198\t12.3\t12.5\t그물맥\t2\n",
        "199\t10.8\t10.0\t그물맥\t2\n",
        "200\t10.8\t6.5\t그물맥\t2\n",
        "201\t10.5\t10.5\t그물맥\t2\n",
        "202\t16.5\t5.5\t나란히맥\t1\n",
        "203\t12.5\t4.3\t나란히맥\t1\n",
        "'''"
      ]
    },
    {
      "cell_type": "code",
      "source": [
        "with open('./data1.csv', 'w') as f:\n",
        "  f.write(dataSeed)\n",
        "  f.close()"
      ],
      "metadata": {
        "id": "aU6zkUbiolfu"
      },
      "execution_count": 5,
      "outputs": []
    },
    {
      "cell_type": "code",
      "source": [
        "import pandas as pd\n",
        "df = pd.read_csv('./data1.csv', sep='\\t')\n",
        "df"
      ],
      "metadata": {
        "colab": {
          "base_uri": "https://localhost:8080/",
          "height": 419
        },
        "id": "goV4-X3upEPc",
        "outputId": "76cd4dc6-0650-420d-cb00-39356b1a51a3"
      },
      "execution_count": 7,
      "outputs": [
        {
          "output_type": "execute_result",
          "data": {
            "text/plain": [
              "     dix  leaf_length  leaf_width   spc  spc_code\n",
              "0      1         11.5         1.5  나란히맥         1\n",
              "1      2         14.5         2.0  나란히맥         1\n",
              "2      3          9.8         1.3  나란히맥         1\n",
              "3      4          9.5         2.5  나란히맥         1\n",
              "4      5         13.5         2.0  나란히맥         1\n",
              "..   ...          ...         ...   ...       ...\n",
              "198  199         10.8        10.0   그물맥         2\n",
              "199  200         10.8         6.5   그물맥         2\n",
              "200  201         10.5        10.5   그물맥         2\n",
              "201  202         16.5         5.5  나란히맥         1\n",
              "202  203         12.5         4.3  나란히맥         1\n",
              "\n",
              "[203 rows x 5 columns]"
            ],
            "text/html": [
              "\n",
              "  <div id=\"df-28d7aeb1-1746-4117-a0e2-52e4b6c4f08c\">\n",
              "    <div class=\"colab-df-container\">\n",
              "      <div>\n",
              "<style scoped>\n",
              "    .dataframe tbody tr th:only-of-type {\n",
              "        vertical-align: middle;\n",
              "    }\n",
              "\n",
              "    .dataframe tbody tr th {\n",
              "        vertical-align: top;\n",
              "    }\n",
              "\n",
              "    .dataframe thead th {\n",
              "        text-align: right;\n",
              "    }\n",
              "</style>\n",
              "<table border=\"1\" class=\"dataframe\">\n",
              "  <thead>\n",
              "    <tr style=\"text-align: right;\">\n",
              "      <th></th>\n",
              "      <th>dix</th>\n",
              "      <th>leaf_length</th>\n",
              "      <th>leaf_width</th>\n",
              "      <th>spc</th>\n",
              "      <th>spc_code</th>\n",
              "    </tr>\n",
              "  </thead>\n",
              "  <tbody>\n",
              "    <tr>\n",
              "      <th>0</th>\n",
              "      <td>1</td>\n",
              "      <td>11.5</td>\n",
              "      <td>1.5</td>\n",
              "      <td>나란히맥</td>\n",
              "      <td>1</td>\n",
              "    </tr>\n",
              "    <tr>\n",
              "      <th>1</th>\n",
              "      <td>2</td>\n",
              "      <td>14.5</td>\n",
              "      <td>2.0</td>\n",
              "      <td>나란히맥</td>\n",
              "      <td>1</td>\n",
              "    </tr>\n",
              "    <tr>\n",
              "      <th>2</th>\n",
              "      <td>3</td>\n",
              "      <td>9.8</td>\n",
              "      <td>1.3</td>\n",
              "      <td>나란히맥</td>\n",
              "      <td>1</td>\n",
              "    </tr>\n",
              "    <tr>\n",
              "      <th>3</th>\n",
              "      <td>4</td>\n",
              "      <td>9.5</td>\n",
              "      <td>2.5</td>\n",
              "      <td>나란히맥</td>\n",
              "      <td>1</td>\n",
              "    </tr>\n",
              "    <tr>\n",
              "      <th>4</th>\n",
              "      <td>5</td>\n",
              "      <td>13.5</td>\n",
              "      <td>2.0</td>\n",
              "      <td>나란히맥</td>\n",
              "      <td>1</td>\n",
              "    </tr>\n",
              "    <tr>\n",
              "      <th>...</th>\n",
              "      <td>...</td>\n",
              "      <td>...</td>\n",
              "      <td>...</td>\n",
              "      <td>...</td>\n",
              "      <td>...</td>\n",
              "    </tr>\n",
              "    <tr>\n",
              "      <th>198</th>\n",
              "      <td>199</td>\n",
              "      <td>10.8</td>\n",
              "      <td>10.0</td>\n",
              "      <td>그물맥</td>\n",
              "      <td>2</td>\n",
              "    </tr>\n",
              "    <tr>\n",
              "      <th>199</th>\n",
              "      <td>200</td>\n",
              "      <td>10.8</td>\n",
              "      <td>6.5</td>\n",
              "      <td>그물맥</td>\n",
              "      <td>2</td>\n",
              "    </tr>\n",
              "    <tr>\n",
              "      <th>200</th>\n",
              "      <td>201</td>\n",
              "      <td>10.5</td>\n",
              "      <td>10.5</td>\n",
              "      <td>그물맥</td>\n",
              "      <td>2</td>\n",
              "    </tr>\n",
              "    <tr>\n",
              "      <th>201</th>\n",
              "      <td>202</td>\n",
              "      <td>16.5</td>\n",
              "      <td>5.5</td>\n",
              "      <td>나란히맥</td>\n",
              "      <td>1</td>\n",
              "    </tr>\n",
              "    <tr>\n",
              "      <th>202</th>\n",
              "      <td>203</td>\n",
              "      <td>12.5</td>\n",
              "      <td>4.3</td>\n",
              "      <td>나란히맥</td>\n",
              "      <td>1</td>\n",
              "    </tr>\n",
              "  </tbody>\n",
              "</table>\n",
              "<p>203 rows × 5 columns</p>\n",
              "</div>\n",
              "      <button class=\"colab-df-convert\" onclick=\"convertToInteractive('df-28d7aeb1-1746-4117-a0e2-52e4b6c4f08c')\"\n",
              "              title=\"Convert this dataframe to an interactive table.\"\n",
              "              style=\"display:none;\">\n",
              "        \n",
              "  <svg xmlns=\"http://www.w3.org/2000/svg\" height=\"24px\"viewBox=\"0 0 24 24\"\n",
              "       width=\"24px\">\n",
              "    <path d=\"M0 0h24v24H0V0z\" fill=\"none\"/>\n",
              "    <path d=\"M18.56 5.44l.94 2.06.94-2.06 2.06-.94-2.06-.94-.94-2.06-.94 2.06-2.06.94zm-11 1L8.5 8.5l.94-2.06 2.06-.94-2.06-.94L8.5 2.5l-.94 2.06-2.06.94zm10 10l.94 2.06.94-2.06 2.06-.94-2.06-.94-.94-2.06-.94 2.06-2.06.94z\"/><path d=\"M17.41 7.96l-1.37-1.37c-.4-.4-.92-.59-1.43-.59-.52 0-1.04.2-1.43.59L10.3 9.45l-7.72 7.72c-.78.78-.78 2.05 0 2.83L4 21.41c.39.39.9.59 1.41.59.51 0 1.02-.2 1.41-.59l7.78-7.78 2.81-2.81c.8-.78.8-2.07 0-2.86zM5.41 20L4 18.59l7.72-7.72 1.47 1.35L5.41 20z\"/>\n",
              "  </svg>\n",
              "      </button>\n",
              "      \n",
              "  <style>\n",
              "    .colab-df-container {\n",
              "      display:flex;\n",
              "      flex-wrap:wrap;\n",
              "      gap: 12px;\n",
              "    }\n",
              "\n",
              "    .colab-df-convert {\n",
              "      background-color: #E8F0FE;\n",
              "      border: none;\n",
              "      border-radius: 50%;\n",
              "      cursor: pointer;\n",
              "      display: none;\n",
              "      fill: #1967D2;\n",
              "      height: 32px;\n",
              "      padding: 0 0 0 0;\n",
              "      width: 32px;\n",
              "    }\n",
              "\n",
              "    .colab-df-convert:hover {\n",
              "      background-color: #E2EBFA;\n",
              "      box-shadow: 0px 1px 2px rgba(60, 64, 67, 0.3), 0px 1px 3px 1px rgba(60, 64, 67, 0.15);\n",
              "      fill: #174EA6;\n",
              "    }\n",
              "\n",
              "    [theme=dark] .colab-df-convert {\n",
              "      background-color: #3B4455;\n",
              "      fill: #D2E3FC;\n",
              "    }\n",
              "\n",
              "    [theme=dark] .colab-df-convert:hover {\n",
              "      background-color: #434B5C;\n",
              "      box-shadow: 0px 1px 3px 1px rgba(0, 0, 0, 0.15);\n",
              "      filter: drop-shadow(0px 1px 2px rgba(0, 0, 0, 0.3));\n",
              "      fill: #FFFFFF;\n",
              "    }\n",
              "  </style>\n",
              "\n",
              "      <script>\n",
              "        const buttonEl =\n",
              "          document.querySelector('#df-28d7aeb1-1746-4117-a0e2-52e4b6c4f08c button.colab-df-convert');\n",
              "        buttonEl.style.display =\n",
              "          google.colab.kernel.accessAllowed ? 'block' : 'none';\n",
              "\n",
              "        async function convertToInteractive(key) {\n",
              "          const element = document.querySelector('#df-28d7aeb1-1746-4117-a0e2-52e4b6c4f08c');\n",
              "          const dataTable =\n",
              "            await google.colab.kernel.invokeFunction('convertToInteractive',\n",
              "                                                     [key], {});\n",
              "          if (!dataTable) return;\n",
              "\n",
              "          const docLinkHtml = 'Like what you see? Visit the ' +\n",
              "            '<a target=\"_blank\" href=https://colab.research.google.com/notebooks/data_table.ipynb>data table notebook</a>'\n",
              "            + ' to learn more about interactive tables.';\n",
              "          element.innerHTML = '';\n",
              "          dataTable['output_type'] = 'display_data';\n",
              "          await google.colab.output.renderOutput(dataTable, element);\n",
              "          const docLink = document.createElement('div');\n",
              "          docLink.innerHTML = docLinkHtml;\n",
              "          element.appendChild(docLink);\n",
              "        }\n",
              "      </script>\n",
              "    </div>\n",
              "  </div>\n",
              "  "
            ]
          },
          "metadata": {},
          "execution_count": 7
        }
      ]
    },
    {
      "cell_type": "code",
      "source": [
        "fdf = df.iloc[:, 1:]\n",
        "fdf"
      ],
      "metadata": {
        "colab": {
          "base_uri": "https://localhost:8080/",
          "height": 419
        },
        "id": "C1UutpV9pLfm",
        "outputId": "e43092db-5204-4b67-c3dc-80ac8b05665a"
      },
      "execution_count": 8,
      "outputs": [
        {
          "output_type": "execute_result",
          "data": {
            "text/plain": [
              "     leaf_length  leaf_width   spc  spc_code\n",
              "0           11.5         1.5  나란히맥         1\n",
              "1           14.5         2.0  나란히맥         1\n",
              "2            9.8         1.3  나란히맥         1\n",
              "3            9.5         2.5  나란히맥         1\n",
              "4           13.5         2.0  나란히맥         1\n",
              "..           ...         ...   ...       ...\n",
              "198         10.8        10.0   그물맥         2\n",
              "199         10.8         6.5   그물맥         2\n",
              "200         10.5        10.5   그물맥         2\n",
              "201         16.5         5.5  나란히맥         1\n",
              "202         12.5         4.3  나란히맥         1\n",
              "\n",
              "[203 rows x 4 columns]"
            ],
            "text/html": [
              "\n",
              "  <div id=\"df-7c19593c-c27f-461c-b994-9b0911efeb3b\">\n",
              "    <div class=\"colab-df-container\">\n",
              "      <div>\n",
              "<style scoped>\n",
              "    .dataframe tbody tr th:only-of-type {\n",
              "        vertical-align: middle;\n",
              "    }\n",
              "\n",
              "    .dataframe tbody tr th {\n",
              "        vertical-align: top;\n",
              "    }\n",
              "\n",
              "    .dataframe thead th {\n",
              "        text-align: right;\n",
              "    }\n",
              "</style>\n",
              "<table border=\"1\" class=\"dataframe\">\n",
              "  <thead>\n",
              "    <tr style=\"text-align: right;\">\n",
              "      <th></th>\n",
              "      <th>leaf_length</th>\n",
              "      <th>leaf_width</th>\n",
              "      <th>spc</th>\n",
              "      <th>spc_code</th>\n",
              "    </tr>\n",
              "  </thead>\n",
              "  <tbody>\n",
              "    <tr>\n",
              "      <th>0</th>\n",
              "      <td>11.5</td>\n",
              "      <td>1.5</td>\n",
              "      <td>나란히맥</td>\n",
              "      <td>1</td>\n",
              "    </tr>\n",
              "    <tr>\n",
              "      <th>1</th>\n",
              "      <td>14.5</td>\n",
              "      <td>2.0</td>\n",
              "      <td>나란히맥</td>\n",
              "      <td>1</td>\n",
              "    </tr>\n",
              "    <tr>\n",
              "      <th>2</th>\n",
              "      <td>9.8</td>\n",
              "      <td>1.3</td>\n",
              "      <td>나란히맥</td>\n",
              "      <td>1</td>\n",
              "    </tr>\n",
              "    <tr>\n",
              "      <th>3</th>\n",
              "      <td>9.5</td>\n",
              "      <td>2.5</td>\n",
              "      <td>나란히맥</td>\n",
              "      <td>1</td>\n",
              "    </tr>\n",
              "    <tr>\n",
              "      <th>4</th>\n",
              "      <td>13.5</td>\n",
              "      <td>2.0</td>\n",
              "      <td>나란히맥</td>\n",
              "      <td>1</td>\n",
              "    </tr>\n",
              "    <tr>\n",
              "      <th>...</th>\n",
              "      <td>...</td>\n",
              "      <td>...</td>\n",
              "      <td>...</td>\n",
              "      <td>...</td>\n",
              "    </tr>\n",
              "    <tr>\n",
              "      <th>198</th>\n",
              "      <td>10.8</td>\n",
              "      <td>10.0</td>\n",
              "      <td>그물맥</td>\n",
              "      <td>2</td>\n",
              "    </tr>\n",
              "    <tr>\n",
              "      <th>199</th>\n",
              "      <td>10.8</td>\n",
              "      <td>6.5</td>\n",
              "      <td>그물맥</td>\n",
              "      <td>2</td>\n",
              "    </tr>\n",
              "    <tr>\n",
              "      <th>200</th>\n",
              "      <td>10.5</td>\n",
              "      <td>10.5</td>\n",
              "      <td>그물맥</td>\n",
              "      <td>2</td>\n",
              "    </tr>\n",
              "    <tr>\n",
              "      <th>201</th>\n",
              "      <td>16.5</td>\n",
              "      <td>5.5</td>\n",
              "      <td>나란히맥</td>\n",
              "      <td>1</td>\n",
              "    </tr>\n",
              "    <tr>\n",
              "      <th>202</th>\n",
              "      <td>12.5</td>\n",
              "      <td>4.3</td>\n",
              "      <td>나란히맥</td>\n",
              "      <td>1</td>\n",
              "    </tr>\n",
              "  </tbody>\n",
              "</table>\n",
              "<p>203 rows × 4 columns</p>\n",
              "</div>\n",
              "      <button class=\"colab-df-convert\" onclick=\"convertToInteractive('df-7c19593c-c27f-461c-b994-9b0911efeb3b')\"\n",
              "              title=\"Convert this dataframe to an interactive table.\"\n",
              "              style=\"display:none;\">\n",
              "        \n",
              "  <svg xmlns=\"http://www.w3.org/2000/svg\" height=\"24px\"viewBox=\"0 0 24 24\"\n",
              "       width=\"24px\">\n",
              "    <path d=\"M0 0h24v24H0V0z\" fill=\"none\"/>\n",
              "    <path d=\"M18.56 5.44l.94 2.06.94-2.06 2.06-.94-2.06-.94-.94-2.06-.94 2.06-2.06.94zm-11 1L8.5 8.5l.94-2.06 2.06-.94-2.06-.94L8.5 2.5l-.94 2.06-2.06.94zm10 10l.94 2.06.94-2.06 2.06-.94-2.06-.94-.94-2.06-.94 2.06-2.06.94z\"/><path d=\"M17.41 7.96l-1.37-1.37c-.4-.4-.92-.59-1.43-.59-.52 0-1.04.2-1.43.59L10.3 9.45l-7.72 7.72c-.78.78-.78 2.05 0 2.83L4 21.41c.39.39.9.59 1.41.59.51 0 1.02-.2 1.41-.59l7.78-7.78 2.81-2.81c.8-.78.8-2.07 0-2.86zM5.41 20L4 18.59l7.72-7.72 1.47 1.35L5.41 20z\"/>\n",
              "  </svg>\n",
              "      </button>\n",
              "      \n",
              "  <style>\n",
              "    .colab-df-container {\n",
              "      display:flex;\n",
              "      flex-wrap:wrap;\n",
              "      gap: 12px;\n",
              "    }\n",
              "\n",
              "    .colab-df-convert {\n",
              "      background-color: #E8F0FE;\n",
              "      border: none;\n",
              "      border-radius: 50%;\n",
              "      cursor: pointer;\n",
              "      display: none;\n",
              "      fill: #1967D2;\n",
              "      height: 32px;\n",
              "      padding: 0 0 0 0;\n",
              "      width: 32px;\n",
              "    }\n",
              "\n",
              "    .colab-df-convert:hover {\n",
              "      background-color: #E2EBFA;\n",
              "      box-shadow: 0px 1px 2px rgba(60, 64, 67, 0.3), 0px 1px 3px 1px rgba(60, 64, 67, 0.15);\n",
              "      fill: #174EA6;\n",
              "    }\n",
              "\n",
              "    [theme=dark] .colab-df-convert {\n",
              "      background-color: #3B4455;\n",
              "      fill: #D2E3FC;\n",
              "    }\n",
              "\n",
              "    [theme=dark] .colab-df-convert:hover {\n",
              "      background-color: #434B5C;\n",
              "      box-shadow: 0px 1px 3px 1px rgba(0, 0, 0, 0.15);\n",
              "      filter: drop-shadow(0px 1px 2px rgba(0, 0, 0, 0.3));\n",
              "      fill: #FFFFFF;\n",
              "    }\n",
              "  </style>\n",
              "\n",
              "      <script>\n",
              "        const buttonEl =\n",
              "          document.querySelector('#df-7c19593c-c27f-461c-b994-9b0911efeb3b button.colab-df-convert');\n",
              "        buttonEl.style.display =\n",
              "          google.colab.kernel.accessAllowed ? 'block' : 'none';\n",
              "\n",
              "        async function convertToInteractive(key) {\n",
              "          const element = document.querySelector('#df-7c19593c-c27f-461c-b994-9b0911efeb3b');\n",
              "          const dataTable =\n",
              "            await google.colab.kernel.invokeFunction('convertToInteractive',\n",
              "                                                     [key], {});\n",
              "          if (!dataTable) return;\n",
              "\n",
              "          const docLinkHtml = 'Like what you see? Visit the ' +\n",
              "            '<a target=\"_blank\" href=https://colab.research.google.com/notebooks/data_table.ipynb>data table notebook</a>'\n",
              "            + ' to learn more about interactive tables.';\n",
              "          element.innerHTML = '';\n",
              "          dataTable['output_type'] = 'display_data';\n",
              "          await google.colab.output.renderOutput(dataTable, element);\n",
              "          const docLink = document.createElement('div');\n",
              "          docLink.innerHTML = docLinkHtml;\n",
              "          element.appendChild(docLink);\n",
              "        }\n",
              "      </script>\n",
              "    </div>\n",
              "  </div>\n",
              "  "
            ]
          },
          "metadata": {},
          "execution_count": 8
        }
      ]
    },
    {
      "cell_type": "code",
      "source": [
        "from sklearn.model_selection import train_test_split"
      ],
      "metadata": {
        "id": "XyLdaSa-syzQ"
      },
      "execution_count": 9,
      "outputs": []
    },
    {
      "cell_type": "code",
      "source": [
        "X_train, X_test, y_train, y_test = \n",
        "train_test_split(fdf.iloc[:, :2], fdf.iloc[:, 2], test_size=0.3, shuffle=True)"
      ],
      "metadata": {
        "id": "KPJ2kb_ctT1r"
      },
      "execution_count": 11,
      "outputs": []
    },
    {
      "cell_type": "code",
      "source": [
        "from sklearn.svm import SVC\n",
        "myModel = SVC()"
      ],
      "metadata": {
        "id": "mIYK0bJ7tt-G"
      },
      "execution_count": 12,
      "outputs": []
    },
    {
      "cell_type": "code",
      "source": [
        "myModel.fit(X_train, y_train)"
      ],
      "metadata": {
        "colab": {
          "base_uri": "https://localhost:8080/",
          "height": 74
        },
        "id": "x3dNaqsbuoUx",
        "outputId": "beab9211-bade-4a39-9c25-04cb0cc48a9a"
      },
      "execution_count": 13,
      "outputs": [
        {
          "output_type": "execute_result",
          "data": {
            "text/plain": [
              "SVC()"
            ],
            "text/html": [
              "<style>#sk-container-id-1 {color: black;background-color: white;}#sk-container-id-1 pre{padding: 0;}#sk-container-id-1 div.sk-toggleable {background-color: white;}#sk-container-id-1 label.sk-toggleable__label {cursor: pointer;display: block;width: 100%;margin-bottom: 0;padding: 0.3em;box-sizing: border-box;text-align: center;}#sk-container-id-1 label.sk-toggleable__label-arrow:before {content: \"▸\";float: left;margin-right: 0.25em;color: #696969;}#sk-container-id-1 label.sk-toggleable__label-arrow:hover:before {color: black;}#sk-container-id-1 div.sk-estimator:hover label.sk-toggleable__label-arrow:before {color: black;}#sk-container-id-1 div.sk-toggleable__content {max-height: 0;max-width: 0;overflow: hidden;text-align: left;background-color: #f0f8ff;}#sk-container-id-1 div.sk-toggleable__content pre {margin: 0.2em;color: black;border-radius: 0.25em;background-color: #f0f8ff;}#sk-container-id-1 input.sk-toggleable__control:checked~div.sk-toggleable__content {max-height: 200px;max-width: 100%;overflow: auto;}#sk-container-id-1 input.sk-toggleable__control:checked~label.sk-toggleable__label-arrow:before {content: \"▾\";}#sk-container-id-1 div.sk-estimator input.sk-toggleable__control:checked~label.sk-toggleable__label {background-color: #d4ebff;}#sk-container-id-1 div.sk-label input.sk-toggleable__control:checked~label.sk-toggleable__label {background-color: #d4ebff;}#sk-container-id-1 input.sk-hidden--visually {border: 0;clip: rect(1px 1px 1px 1px);clip: rect(1px, 1px, 1px, 1px);height: 1px;margin: -1px;overflow: hidden;padding: 0;position: absolute;width: 1px;}#sk-container-id-1 div.sk-estimator {font-family: monospace;background-color: #f0f8ff;border: 1px dotted black;border-radius: 0.25em;box-sizing: border-box;margin-bottom: 0.5em;}#sk-container-id-1 div.sk-estimator:hover {background-color: #d4ebff;}#sk-container-id-1 div.sk-parallel-item::after {content: \"\";width: 100%;border-bottom: 1px solid gray;flex-grow: 1;}#sk-container-id-1 div.sk-label:hover label.sk-toggleable__label {background-color: #d4ebff;}#sk-container-id-1 div.sk-serial::before {content: \"\";position: absolute;border-left: 1px solid gray;box-sizing: border-box;top: 0;bottom: 0;left: 50%;z-index: 0;}#sk-container-id-1 div.sk-serial {display: flex;flex-direction: column;align-items: center;background-color: white;padding-right: 0.2em;padding-left: 0.2em;position: relative;}#sk-container-id-1 div.sk-item {position: relative;z-index: 1;}#sk-container-id-1 div.sk-parallel {display: flex;align-items: stretch;justify-content: center;background-color: white;position: relative;}#sk-container-id-1 div.sk-item::before, #sk-container-id-1 div.sk-parallel-item::before {content: \"\";position: absolute;border-left: 1px solid gray;box-sizing: border-box;top: 0;bottom: 0;left: 50%;z-index: -1;}#sk-container-id-1 div.sk-parallel-item {display: flex;flex-direction: column;z-index: 1;position: relative;background-color: white;}#sk-container-id-1 div.sk-parallel-item:first-child::after {align-self: flex-end;width: 50%;}#sk-container-id-1 div.sk-parallel-item:last-child::after {align-self: flex-start;width: 50%;}#sk-container-id-1 div.sk-parallel-item:only-child::after {width: 0;}#sk-container-id-1 div.sk-dashed-wrapped {border: 1px dashed gray;margin: 0 0.4em 0.5em 0.4em;box-sizing: border-box;padding-bottom: 0.4em;background-color: white;}#sk-container-id-1 div.sk-label label {font-family: monospace;font-weight: bold;display: inline-block;line-height: 1.2em;}#sk-container-id-1 div.sk-label-container {text-align: center;}#sk-container-id-1 div.sk-container {/* jupyter's `normalize.less` sets `[hidden] { display: none; }` but bootstrap.min.css set `[hidden] { display: none !important; }` so we also need the `!important` here to be able to override the default hidden behavior on the sphinx rendered scikit-learn.org. See: https://github.com/scikit-learn/scikit-learn/issues/21755 */display: inline-block !important;position: relative;}#sk-container-id-1 div.sk-text-repr-fallback {display: none;}</style><div id=\"sk-container-id-1\" class=\"sk-top-container\"><div class=\"sk-text-repr-fallback\"><pre>SVC()</pre><b>In a Jupyter environment, please rerun this cell to show the HTML representation or trust the notebook. <br />On GitHub, the HTML representation is unable to render, please try loading this page with nbviewer.org.</b></div><div class=\"sk-container\" hidden><div class=\"sk-item\"><div class=\"sk-estimator sk-toggleable\"><input class=\"sk-toggleable__control sk-hidden--visually\" id=\"sk-estimator-id-1\" type=\"checkbox\" checked><label for=\"sk-estimator-id-1\" class=\"sk-toggleable__label sk-toggleable__label-arrow\">SVC</label><div class=\"sk-toggleable__content\"><pre>SVC()</pre></div></div></div></div></div>"
            ]
          },
          "metadata": {},
          "execution_count": 13
        }
      ]
    },
    {
      "cell_type": "code",
      "source": [
        "y_pred = myModel.predict(X_test)"
      ],
      "metadata": {
        "id": "uj9CjlWGut20"
      },
      "execution_count": 14,
      "outputs": []
    },
    {
      "cell_type": "code",
      "source": [
        "from sklearn.metrics import accuracy_score"
      ],
      "metadata": {
        "id": "TRzl-sLMu2ny"
      },
      "execution_count": 15,
      "outputs": []
    },
    {
      "cell_type": "code",
      "source": [
        "accuracy_score(y_pred, y_test)"
      ],
      "metadata": {
        "colab": {
          "base_uri": "https://localhost:8080/"
        },
        "id": "CBMYDHIVu58G",
        "outputId": "ced35904-8ecc-4094-bbde-e08dc12e1c28"
      },
      "execution_count": 16,
      "outputs": [
        {
          "output_type": "execute_result",
          "data": {
            "text/plain": [
              "0.8360655737704918"
            ]
          },
          "metadata": {},
          "execution_count": 16
        }
      ]
    },
    {
      "cell_type": "code",
      "source": [
        "from sklearn.metrics import confusion_matrix"
      ],
      "metadata": {
        "id": "dBFHtukju9ai"
      },
      "execution_count": 17,
      "outputs": []
    },
    {
      "cell_type": "code",
      "source": [
        "confusion_matrix(y_pred, y_test)"
      ],
      "metadata": {
        "colab": {
          "base_uri": "https://localhost:8080/"
        },
        "id": "cDg55xNfwJxu",
        "outputId": "c83b1f65-5aee-42fd-d991-db1b71ce9016"
      },
      "execution_count": 18,
      "outputs": [
        {
          "output_type": "execute_result",
          "data": {
            "text/plain": [
              "array([[27,  8],\n",
              "       [ 2, 24]])"
            ]
          },
          "metadata": {},
          "execution_count": 18
        }
      ]
    },
    {
      "cell_type": "code",
      "source": [
        "import seaborn as sns\n",
        "sns.heatmap(confusion_matrix(y_pred, y_test), annot=True)"
      ],
      "metadata": {
        "colab": {
          "base_uri": "https://localhost:8080/",
          "height": 448
        },
        "id": "uJkVqva5wMx4",
        "outputId": "8b66cffe-99ba-4c84-ab8b-18e39ddd5206"
      },
      "execution_count": 21,
      "outputs": [
        {
          "output_type": "execute_result",
          "data": {
            "text/plain": [
              "<Axes: >"
            ]
          },
          "metadata": {},
          "execution_count": 21
        },
        {
          "output_type": "display_data",
          "data": {
            "text/plain": [
              "<Figure size 640x480 with 2 Axes>"
            ],
            "image/png": "[encoded data removed]"
          },
          "metadata": {}
        }
      ]
    },
    {
      "cell_type": "code",
      "source": [
        "myModel.predict([[10, 6]])"
      ],
      "metadata": {
        "colab": {
          "base_uri": "https://localhost:8080/"
        },
        "id": "yYNFAaTSwSMt",
        "outputId": "c54bdc39-556e-4016-c7f2-15924942a621"
      },
      "execution_count": 23,
      "outputs": [
        {
          "output_type": "stream",
          "name": "stderr",
          "text": [
            "/usr/local/lib/python3.10/dist-packages/sklearn/base.py:439: UserWarning: X does not have valid feature names, but SVC was fitted with feature names\n",
            "  warnings.warn(\n"
          ]
        },
        {
          "output_type": "execute_result",
          "data": {
            "text/plain": [
              "array(['그물맥'], dtype=object)"
            ]
          },
          "metadata": {},
          "execution_count": 23
        }
      ]
    },
    {
      "cell_type": "code",
      "source": [
        "while True:\n",
        "  length = input('Length of leaf? (Q or q for Quit)')\n",
        "  if length == 'Q' or length == 'q':\n",
        "    print ('Bye~~')\n",
        "    break\n",
        "  else:\n",
        "    length = float(length)\n",
        "    width = float(input('Width of leaf? '))\n",
        "    ans = myModel.predict([[length, width]])\n",
        "    print (ans)"
      ],
      "metadata": {
        "id": "kYbJXOJyxhPb"
      },
      "execution_count": null,
      "outputs": []
    }
  ]
}